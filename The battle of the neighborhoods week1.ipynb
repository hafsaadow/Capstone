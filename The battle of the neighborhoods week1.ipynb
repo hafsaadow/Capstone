{
 "cells": [
  {
   "cell_type": "markdown",
   "metadata": {},
   "source": [
    "# Coursera Capstone Project"
   ]
  },
  {
   "cell_type": "markdown",
   "metadata": {},
   "source": [
    "# The Battle of Neighborhoods (Week 1)"
   ]
  },
  {
   "cell_type": "markdown",
   "metadata": {},
   "source": [
    "## Hafsah Ahmed"
   ]
  },
  {
   "cell_type": "markdown",
   "metadata": {},
   "source": [
    "## Part 1 : Introduction and Data Sections "
   ]
  },
  {
   "cell_type": "markdown",
   "metadata": {},
   "source": [
    "### Coursera Capstone - REPORT CONTENT "
   ]
  },
  {
   "cell_type": "markdown",
   "metadata": {},
   "source": [
    "1. Introduction Section : ⁃ Discussion of the business problem and the interested audience in this project.\n",
    "2. Data Section:\n",
    "⁃ Description of the data that will be used to solve the problem and the sources.\n",
    "3. Methodology section ⁃ Discussion and description of exploratory data analysis carried out, any inferential statistical testing performed, and if any machine learnings were used establishing the strategy and purposes.\n",
    "4. Results section ⁃ Discussion of the results.\n",
    "5. Discussion section ⁃ Elaboration and discussion on any observations noted and any recommendations suggested based on the results.\n",
    "6. Conclusion section ⁃ Report Conclusion."
   ]
  },
  {
   "cell_type": "code",
   "execution_count": 1,
   "metadata": {},
   "outputs": [],
   "source": [
    "# A description of the problem and a discussion of the background. (15 marks)"
   ]
  },
  {
   "cell_type": "markdown",
   "metadata": {},
   "source": [
    "### 1. Introduction Section : "
   ]
  },
  {
   "cell_type": "markdown",
   "metadata": {},
   "source": [
    "### Discussion of the business problem and the audience who would be interested in this project. "
   ]
  },
  {
   "cell_type": "markdown",
   "metadata": {},
   "source": [
    "### Description of the Problem and Background\n",
    "An important aspect of marketing for a modern restaurant or any business for that matter is social media where the number of \"likes\" determines a company's public image, reputation and success (in terms of customer satisfaction). \n",
    "\n",
    "For a business owner planning to open a new restaurant (or expanding an existing one) in a new city, knowing the restaurant type, cuisine and location with the potential to do well both physically and in social media ahead of time can be a game changer. This is beacuse it could solve the problem of uncertainty surrounding performance when breaking into new markets.\n",
    "\n",
    "In this analysis we will solve this uncertainty by leveraging data gathered from FourSquare's API, specifically \"likes\" data of different restaurants, their locations and category of cuisine."
   ]
  },
  {
   "cell_type": "markdown",
   "metadata": {},
   "source": [
    "### Business Problem\n",
    "How accurately can we predict the amount of \"likes\" a new restaurant opening in a certain location can expect to have based on the type of cuisine and where it will open."
   ]
  },
  {
   "cell_type": "markdown",
   "metadata": {},
   "source": [
    "### Intrested Audience\n",
    "The goal of this analysis is to aid a business owner make decisions regarding whether it is feasible to open a restaurant in a certain area and expect positive social media presence, what type of cuisines perform well in certain areas and the best area overall out of the three cities.\n",
    "\n",
    "For the purpose of this analysis we will focus on three of the most popular and heavily populated cities in Texas, namely Houston, San Antonio and Dallas. All three cities boast a very diverse restaurant scene mostly due to their culturally diverse residents. However this analysis can be replicated on any city/number of cities and new business ideas (not limited to restaurants) to yield answers to similar important business decisions discussed here."
   ]
  },
  {
   "cell_type": "code",
   "execution_count": 2,
   "metadata": {},
   "outputs": [],
   "source": [
    "# A description of the data and how it will be used to solve the problem. (15 marks)"
   ]
  },
  {
   "cell_type": "markdown",
   "metadata": {},
   "source": [
    "## 2. Data Section: "
   ]
  },
  {
   "cell_type": "markdown",
   "metadata": {},
   "source": [
    "### 2.1 Data scrapping and cleaning "
   ]
  },
  {
   "cell_type": "markdown",
   "metadata": {},
   "source": [
    "1. First we will retrieve the geographical coordinates of the 3 cities i.e. Houston, San Antonio and Dallas.\n",
    "2. We will then leverage the FourSquare API to obtain URLs that will lead to the raw data in JSON format.\n",
    "3. It is important to note the FourSquare API will retrieve all venue data other than just restaurants i.e. concert halls. This means we will have to clean the data to remove all non-restaurant venue data.\n",
    "4. The \"id\" is an important column because it is where we will pull \"likes\" from. After retrieving \"likes\" based on the restaurant \"id\" we will append it to our data frame."
   ]
  },
  {
   "cell_type": "markdown",
   "metadata": {},
   "source": [
    "### 2.2 Data Preparation"
   ]
  },
  {
   "cell_type": "markdown",
   "metadata": {},
   "source": [
    "The raw data set we have thus far still needs more processing before we can use it to model. For example, the column 'categories' contains large variation of cuisines that will limit us from drawing very meaningful results due to the broadness. Therefore, as part of data preparation we will group these variations into groups of cuisines i.e. Asian, European, Latin, North American, Casual as in the case of caffes and drinking establishment as in the case of bars.\n",
    "\n",
    "Our 3 different cities of focus and 6 different categories of cusines are all categorical variables. Hence, we will require dummy variable encoding for meaningful analysis. We can accomplish this via one-hot encoding."
   ]
  },
  {
   "cell_type": "code",
   "execution_count": null,
   "metadata": {},
   "outputs": [],
   "source": []
  }
 ],
 "metadata": {
  "kernelspec": {
   "display_name": "Python 3",
   "language": "python",
   "name": "python3"
  },
  "language_info": {
   "codemirror_mode": {
    "name": "ipython",
    "version": 3
   },
   "file_extension": ".py",
   "mimetype": "text/x-python",
   "name": "python",
   "nbconvert_exporter": "python",
   "pygments_lexer": "ipython3",
   "version": "3.7.6"
  }
 },
 "nbformat": 4,
 "nbformat_minor": 4
}
